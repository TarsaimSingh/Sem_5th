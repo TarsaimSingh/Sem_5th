{
 "cells": [
  {
   "cell_type": "markdown",
   "id": "77cf6e24-8411-4035-8f5f-d330da4be243",
   "metadata": {},
   "source": [
    " Write a program to build a Convolution Neural network. "
   ]
  },
  {
   "cell_type": "code",
   "execution_count": null,
   "id": "431b4897-dd29-4115-8755-a6e3635027b9",
   "metadata": {},
   "outputs": [],
   "source": []
  }
 ],
 "metadata": {
  "kernelspec": {
   "display_name": "Python 3 (ipykernel)",
   "language": "python",
   "name": "python3"
  },
  "language_info": {
   "codemirror_mode": {
    "name": "ipython",
    "version": 3
   },
   "file_extension": ".py",
   "mimetype": "text/x-python",
   "name": "python",
   "nbconvert_exporter": "python",
   "pygments_lexer": "ipython3",
   "version": "3.12.4"
  }
 },
 "nbformat": 4,
 "nbformat_minor": 5
}
