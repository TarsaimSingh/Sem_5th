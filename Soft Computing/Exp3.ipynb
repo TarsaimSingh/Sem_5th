{
 "cells": [
  {
   "cell_type": "markdown",
   "id": "014ff2de-e47d-44c2-8896-ba8f51e46a8b",
   "metadata": {},
   "source": [
    "Creating an Artificial Neural Network Class.\n",
    "\n",
    "a) Training the model\n",
    "\n",
    "b) Applying the Sigmoid function Theory"
   ]
  },
  {
   "cell_type": "code",
   "execution_count": 2,
   "id": "5ddc43ff-e8a4-490f-9b5a-49d4c84aa4b8",
   "metadata": {},
   "outputs": [],
   "source": [
    "import numpy as np"
   ]
  },
  {
   "cell_type": "code",
   "execution_count": 4,
   "id": "d642b32e-baba-46c0-8afc-a74d3f3476bd",
   "metadata": {},
   "outputs": [],
   "source": [
    "class NeuralNetwork():\n",
    "    def __init__(self):\n",
    "        # Seeding for random number generation\n",
    "        np.random.seed(1)\n",
    "        # Initializing weights to a 3x1 matrix with values from -1 to 1 and mean of 0\n",
    "        self.synaptic_weights = 2 * np.random.random((3, 1)) - 1\n",
    "\n",
    "    def sigmoid(self, x):\n",
    "        # Applying the sigmoid function\n",
    "        return 1 / (1 + np.exp(-x))\n",
    "\n",
    "    def sigmoid_derivative(self, x):\n",
    "        # Computing derivative of the sigmoid function\n",
    "        return x * (1 - x)\n",
    "\n",
    "    def train(self, training_inputs, training_outputs, training_iterations):\n",
    "        # Training the model by adjusting weights\n",
    "        for iteration in range(training_iterations):\n",
    "            # Forward pass: passing the inputs through the network\n",
    "            output = self.think(training_inputs)\n",
    "            \n",
    "            # Compute the error\n",
    "            error = training_outputs - output\n",
    "            \n",
    "            # Calculate the adjustments\n",
    "            adjustments = np.dot(training_inputs.T, error * self.sigmoid_derivative(output))\n",
    "            \n",
    "            # Update weights\n",
    "            self.synaptic_weights += adjustments\n",
    "\n",
    "    def think(self, inputs):\n",
    "        # Forward pass: getting the output from the input\n",
    "        inputs = inputs.astype(float)\n",
    "        output = self.sigmoid(np.dot(inputs, self.synaptic_weights))\n",
    "        return output"
   ]
  },
  {
   "cell_type": "code",
   "execution_count": 5,
   "id": "e83a0caf-19b0-4a09-99b7-bd8885c47be3",
   "metadata": {},
   "outputs": [
    {
     "name": "stdout",
     "output_type": "stream",
     "text": [
      "Beginning Randomly Generated Weights: \n",
      "[[-0.16595599]\n",
      " [ 0.44064899]\n",
      " [-0.99977125]]\n",
      "Ending Weights After Training: \n",
      "[[10.08740896]\n",
      " [-0.20695366]\n",
      " [-4.83757835]]\n"
     ]
    },
    {
     "name": "stdin",
     "output_type": "stream",
     "text": [
      "User Input One:  0\n",
      "User Input Two:  0\n",
      "User Input Three:  0\n"
     ]
    },
    {
     "name": "stdout",
     "output_type": "stream",
     "text": [
      "Considering New Situation:  0.0 0.0 0.0\n",
      "New Output data: \n",
      "[0.5]\n",
      "Done\n"
     ]
    }
   ],
   "source": [
    "if __name__ == \"__main__\":\n",
    "    # Initializing the neural network class\n",
    "    neural_network = NeuralNetwork()\n",
    "\n",
    "    print(\"Beginning Randomly Generated Weights: \")\n",
    "    print(neural_network.synaptic_weights)\n",
    "\n",
    "    # Training data: 4 examples with 3 inputs and 1 output\n",
    "    training_inputs = np.array([[0, 0, 1],\n",
    "                                [1, 1, 1],\n",
    "                                [1, 0, 1],\n",
    "                                [0, 1, 1]])\n",
    "\n",
    "    training_outputs = np.array([[0], [1], [1], [0]])\n",
    "\n",
    "    # Train the neural network\n",
    "    neural_network.train(training_inputs, training_outputs, 15000)\n",
    "\n",
    "    print(\"Ending Weights After Training: \")\n",
    "    print(neural_network.synaptic_weights)\n",
    "\n",
    "    # Taking user input\n",
    "    user_input_one = float(input(\"User Input One: \"))\n",
    "    user_input_two = float(input(\"User Input Two: \"))\n",
    "    user_input_three = float(input(\"User Input Three: \"))\n",
    "\n",
    "    # Making a prediction based on new inputs\n",
    "    print(\"Considering New Situation: \", user_input_one, user_input_two, user_input_three)\n",
    "    print(\"New Output data: \")\n",
    "    print(neural_network.think(np.array([user_input_one, user_input_two, user_input_three])))\n",
    "\n",
    "    print(\"Done\")"
   ]
  },
  {
   "cell_type": "code",
   "execution_count": null,
   "id": "ea88d5b8-09f8-480c-ae4a-3378d6ced4e3",
   "metadata": {},
   "outputs": [],
   "source": []
  }
 ],
 "metadata": {
  "kernelspec": {
   "display_name": "Python 3 (ipykernel)",
   "language": "python",
   "name": "python3"
  },
  "language_info": {
   "codemirror_mode": {
    "name": "ipython",
    "version": 3
   },
   "file_extension": ".py",
   "mimetype": "text/x-python",
   "name": "python",
   "nbconvert_exporter": "python",
   "pygments_lexer": "ipython3",
   "version": "3.12.4"
  }
 },
 "nbformat": 4,
 "nbformat_minor": 5
}
