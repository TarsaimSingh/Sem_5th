{
 "cells": [
  {
   "cell_type": "markdown",
   "id": "014ff2de-e47d-44c2-8896-ba8f51e46a8b",
   "metadata": {},
   "source": [
    "Creating an Artificial Neural Network Class.\n",
    "\n",
    "a) Training the model\n",
    "\n",
    "b) Applying the Sigmoid function Theory"
   ]
  },
  {
   "cell_type": "code",
   "execution_count": null,
   "id": "5ddc43ff-e8a4-490f-9b5a-49d4c84aa4b8",
   "metadata": {},
   "outputs": [],
   "source": []
  }
 ],
 "metadata": {
  "kernelspec": {
   "display_name": "Python 3 (ipykernel)",
   "language": "python",
   "name": "python3"
  },
  "language_info": {
   "codemirror_mode": {
    "name": "ipython",
    "version": 3
   },
   "file_extension": ".py",
   "mimetype": "text/x-python",
   "name": "python",
   "nbconvert_exporter": "python",
   "pygments_lexer": "ipython3",
   "version": "3.12.4"
  }
 },
 "nbformat": 4,
 "nbformat_minor": 5
}
