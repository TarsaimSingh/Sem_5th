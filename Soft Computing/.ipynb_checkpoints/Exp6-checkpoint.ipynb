{
 "cells": [
  {
   "cell_type": "markdown",
   "id": "4d534ccb-7092-491b-9d2c-29221c39b3c8",
   "metadata": {},
   "source": [
    "Write a program to implement feed forward network"
   ]
  },
  {
   "cell_type": "code",
   "execution_count": null,
   "id": "f3cddc70-8740-48eb-b66d-766bb044cfb8",
   "metadata": {},
   "outputs": [],
   "source": []
  }
 ],
 "metadata": {
  "kernelspec": {
   "display_name": "Python 3 (ipykernel)",
   "language": "python",
   "name": "python3"
  },
  "language_info": {
   "codemirror_mode": {
    "name": "ipython",
    "version": 3
   },
   "file_extension": ".py",
   "mimetype": "text/x-python",
   "name": "python",
   "nbconvert_exporter": "python",
   "pygments_lexer": "ipython3",
   "version": "3.12.4"
  }
 },
 "nbformat": 4,
 "nbformat_minor": 5
}
