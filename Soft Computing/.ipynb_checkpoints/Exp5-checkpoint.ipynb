{
 "cells": [
  {
   "cell_type": "markdown",
   "id": "64e633b1-d875-4975-af06-f95511d93e6c",
   "metadata": {},
   "source": [
    " Write a program to implement Multi Layer Perceptron. "
   ]
  },
  {
   "cell_type": "code",
   "execution_count": null,
   "id": "5dc53884-58db-4235-b729-ebf26bfaae4a",
   "metadata": {},
   "outputs": [],
   "source": []
  }
 ],
 "metadata": {
  "kernelspec": {
   "display_name": "Python 3 (ipykernel)",
   "language": "python",
   "name": "python3"
  },
  "language_info": {
   "codemirror_mode": {
    "name": "ipython",
    "version": 3
   },
   "file_extension": ".py",
   "mimetype": "text/x-python",
   "name": "python",
   "nbconvert_exporter": "python",
   "pygments_lexer": "ipython3",
   "version": "3.12.4"
  }
 },
 "nbformat": 4,
 "nbformat_minor": 5
}
