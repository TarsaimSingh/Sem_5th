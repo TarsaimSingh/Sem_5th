{
 "cells": [
  {
   "cell_type": "markdown",
   "id": "ac9a2dc0-f722-4895-b402-29fea593e016",
   "metadata": {},
   "source": [
    "Write a program to implement an Autoencoder."
   ]
  },
  {
   "cell_type": "code",
   "execution_count": null,
   "id": "c01f7210-d724-4ca4-a18b-a6f64d3483b1",
   "metadata": {},
   "outputs": [],
   "source": []
  }
 ],
 "metadata": {
  "kernelspec": {
   "display_name": "Python 3 (ipykernel)",
   "language": "python",
   "name": "python3"
  },
  "language_info": {
   "codemirror_mode": {
    "name": "ipython",
    "version": 3
   },
   "file_extension": ".py",
   "mimetype": "text/x-python",
   "name": "python",
   "nbconvert_exporter": "python",
   "pygments_lexer": "ipython3",
   "version": "3.12.4"
  }
 },
 "nbformat": 4,
 "nbformat_minor": 5
}
